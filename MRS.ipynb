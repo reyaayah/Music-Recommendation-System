{
  "cells": [
    {
      "cell_type": "markdown",
      "metadata": {
        "id": "view-in-github",
        "colab_type": "text"
      },
      "source": [
        "<a href=\"https://colab.research.google.com/github/reyaayah/Music-Recommendation-System/blob/main/MRS.ipynb\" target=\"_parent\"><img src=\"https://colab.research.google.com/assets/colab-badge.svg\" alt=\"Open In Colab\"/></a>"
      ]
    },
    {
      "cell_type": "code",
      "execution_count": null,
      "metadata": {
        "id": "9Cbe09aS5g0V"
      },
      "outputs": [],
      "source": [
        "import pandas as pd"
      ]
    },
    {
      "cell_type": "code",
      "execution_count": null,
      "metadata": {
        "id": "_cBqaZ9_-kIc"
      },
      "outputs": [],
      "source": [
        "df=pd.read_csv(\"/content/drive/MyDrive/mrs/spotify_millsongdata.csv.zip\")"
      ]
    },
    {
      "cell_type": "code",
      "execution_count": null,
      "metadata": {
        "colab": {
          "base_uri": "https://localhost:8080/"
        },
        "id": "Oq6I37Wt-0T5",
        "outputId": "ba160d34-8992-4525-d70a-e171046a7425"
      },
      "outputs": [
        {
          "output_type": "stream",
          "name": "stdout",
          "text": [
            "Drive already mounted at /content/drive; to attempt to forcibly remount, call drive.mount(\"/content/drive\", force_remount=True).\n"
          ]
        }
      ],
      "source": [
        "from google.colab import drive\n",
        "drive.mount('/content/drive')"
      ]
    },
    {
      "cell_type": "code",
      "execution_count": null,
      "metadata": {
        "colab": {
          "base_uri": "https://localhost:8080/"
        },
        "id": "CaGtNhz2A2ll",
        "outputId": "fd986a41-bfae-4587-a0d3-e4b94c514547"
      },
      "outputs": [
        {
          "output_type": "execute_result",
          "data": {
            "text/plain": [
              "(57650, 4)"
            ]
          },
          "metadata": {},
          "execution_count": 42
        }
      ],
      "source": [
        "df.shape"
      ]
    },
    {
      "cell_type": "code",
      "source": [
        "df= df.sample(5000).drop('link',axis=1).reset_index(drop=True)"
      ],
      "metadata": {
        "id": "x_wf8jFZ2m1C"
      },
      "execution_count": null,
      "outputs": []
    },
    {
      "cell_type": "code",
      "source": [
        "df.head(10)"
      ],
      "metadata": {
        "colab": {
          "base_uri": "https://localhost:8080/",
          "height": 536
        },
        "id": "jYD3PRH02zsm",
        "outputId": "bde048c8-b7ae-4240-bf3c-0fe887c27b67"
      },
      "execution_count": null,
      "outputs": [
        {
          "output_type": "execute_result",
          "data": {
            "text/plain": [
              "             artist                              song  \\\n",
              "0             Opeth              The Funeral Portrait   \n",
              "1   Whitney Houston                     Where You Are   \n",
              "2        Ed Sheeran                      Give Me Love   \n",
              "3       Celine Dion  Everybody's Talkin' My Baby Down   \n",
              "4     Pet Shop Boys            Left To My Own Devices   \n",
              "5     Planetshakers                  Speak To Me Lord   \n",
              "6       Def Leppard                            Animal   \n",
              "7  Widespread Panic                        Action Man   \n",
              "8       Frank Zappa                 Cocaine Decisions   \n",
              "9         Radiohead                       How Do You?   \n",
              "\n",
              "                                                text  \n",
              "0  You wait by the window  \\r\\nMorning's breath o...  \n",
              "1  I saw the news this morning  \\r\\nAnd saw your ...  \n",
              "2  Give me love like her,  \\r\\n'Cause lately I've...  \n",
              "3  People are sayin'  \\r\\nThat boy is gonna hurt ...  \n",
              "4  I get out of bed at half past ten  \\r\\nPhone u...  \n",
              "5  I look to You my God  \\r\\nAnd lift my eyes to ...  \n",
              "6  A wild ride, over stony ground  \\r\\nSuch a lus...  \n",
              "7  Willie said \"he was the mostest horse\"  \\r\\nA ...  \n",
              "8  Chop a line now  \\r\\nCocaine decisions  \\r\\nYo...  \n",
              "9  He's bitter and twisted, he knows what he want...  "
            ],
            "text/html": [
              "\n",
              "  <div id=\"df-d7c7d67d-1855-4b8f-82d2-07b066db22c0\" class=\"colab-df-container\">\n",
              "    <div>\n",
              "<style scoped>\n",
              "    .dataframe tbody tr th:only-of-type {\n",
              "        vertical-align: middle;\n",
              "    }\n",
              "\n",
              "    .dataframe tbody tr th {\n",
              "        vertical-align: top;\n",
              "    }\n",
              "\n",
              "    .dataframe thead th {\n",
              "        text-align: right;\n",
              "    }\n",
              "</style>\n",
              "<table border=\"1\" class=\"dataframe\">\n",
              "  <thead>\n",
              "    <tr style=\"text-align: right;\">\n",
              "      <th></th>\n",
              "      <th>artist</th>\n",
              "      <th>song</th>\n",
              "      <th>text</th>\n",
              "    </tr>\n",
              "  </thead>\n",
              "  <tbody>\n",
              "    <tr>\n",
              "      <th>0</th>\n",
              "      <td>Opeth</td>\n",
              "      <td>The Funeral Portrait</td>\n",
              "      <td>You wait by the window  \\r\\nMorning's breath o...</td>\n",
              "    </tr>\n",
              "    <tr>\n",
              "      <th>1</th>\n",
              "      <td>Whitney Houston</td>\n",
              "      <td>Where You Are</td>\n",
              "      <td>I saw the news this morning  \\r\\nAnd saw your ...</td>\n",
              "    </tr>\n",
              "    <tr>\n",
              "      <th>2</th>\n",
              "      <td>Ed Sheeran</td>\n",
              "      <td>Give Me Love</td>\n",
              "      <td>Give me love like her,  \\r\\n'Cause lately I've...</td>\n",
              "    </tr>\n",
              "    <tr>\n",
              "      <th>3</th>\n",
              "      <td>Celine Dion</td>\n",
              "      <td>Everybody's Talkin' My Baby Down</td>\n",
              "      <td>People are sayin'  \\r\\nThat boy is gonna hurt ...</td>\n",
              "    </tr>\n",
              "    <tr>\n",
              "      <th>4</th>\n",
              "      <td>Pet Shop Boys</td>\n",
              "      <td>Left To My Own Devices</td>\n",
              "      <td>I get out of bed at half past ten  \\r\\nPhone u...</td>\n",
              "    </tr>\n",
              "    <tr>\n",
              "      <th>5</th>\n",
              "      <td>Planetshakers</td>\n",
              "      <td>Speak To Me Lord</td>\n",
              "      <td>I look to You my God  \\r\\nAnd lift my eyes to ...</td>\n",
              "    </tr>\n",
              "    <tr>\n",
              "      <th>6</th>\n",
              "      <td>Def Leppard</td>\n",
              "      <td>Animal</td>\n",
              "      <td>A wild ride, over stony ground  \\r\\nSuch a lus...</td>\n",
              "    </tr>\n",
              "    <tr>\n",
              "      <th>7</th>\n",
              "      <td>Widespread Panic</td>\n",
              "      <td>Action Man</td>\n",
              "      <td>Willie said \"he was the mostest horse\"  \\r\\nA ...</td>\n",
              "    </tr>\n",
              "    <tr>\n",
              "      <th>8</th>\n",
              "      <td>Frank Zappa</td>\n",
              "      <td>Cocaine Decisions</td>\n",
              "      <td>Chop a line now  \\r\\nCocaine decisions  \\r\\nYo...</td>\n",
              "    </tr>\n",
              "    <tr>\n",
              "      <th>9</th>\n",
              "      <td>Radiohead</td>\n",
              "      <td>How Do You?</td>\n",
              "      <td>He's bitter and twisted, he knows what he want...</td>\n",
              "    </tr>\n",
              "  </tbody>\n",
              "</table>\n",
              "</div>\n",
              "    <div class=\"colab-df-buttons\">\n",
              "\n",
              "  <div class=\"colab-df-container\">\n",
              "    <button class=\"colab-df-convert\" onclick=\"convertToInteractive('df-d7c7d67d-1855-4b8f-82d2-07b066db22c0')\"\n",
              "            title=\"Convert this dataframe to an interactive table.\"\n",
              "            style=\"display:none;\">\n",
              "\n",
              "  <svg xmlns=\"http://www.w3.org/2000/svg\" height=\"24px\" viewBox=\"0 -960 960 960\">\n",
              "    <path d=\"M120-120v-720h720v720H120Zm60-500h600v-160H180v160Zm220 220h160v-160H400v160Zm0 220h160v-160H400v160ZM180-400h160v-160H180v160Zm440 0h160v-160H620v160ZM180-180h160v-160H180v160Zm440 0h160v-160H620v160Z\"/>\n",
              "  </svg>\n",
              "    </button>\n",
              "\n",
              "  <style>\n",
              "    .colab-df-container {\n",
              "      display:flex;\n",
              "      gap: 12px;\n",
              "    }\n",
              "\n",
              "    .colab-df-convert {\n",
              "      background-color: #E8F0FE;\n",
              "      border: none;\n",
              "      border-radius: 50%;\n",
              "      cursor: pointer;\n",
              "      display: none;\n",
              "      fill: #1967D2;\n",
              "      height: 32px;\n",
              "      padding: 0 0 0 0;\n",
              "      width: 32px;\n",
              "    }\n",
              "\n",
              "    .colab-df-convert:hover {\n",
              "      background-color: #E2EBFA;\n",
              "      box-shadow: 0px 1px 2px rgba(60, 64, 67, 0.3), 0px 1px 3px 1px rgba(60, 64, 67, 0.15);\n",
              "      fill: #174EA6;\n",
              "    }\n",
              "\n",
              "    .colab-df-buttons div {\n",
              "      margin-bottom: 4px;\n",
              "    }\n",
              "\n",
              "    [theme=dark] .colab-df-convert {\n",
              "      background-color: #3B4455;\n",
              "      fill: #D2E3FC;\n",
              "    }\n",
              "\n",
              "    [theme=dark] .colab-df-convert:hover {\n",
              "      background-color: #434B5C;\n",
              "      box-shadow: 0px 1px 3px 1px rgba(0, 0, 0, 0.15);\n",
              "      filter: drop-shadow(0px 1px 2px rgba(0, 0, 0, 0.3));\n",
              "      fill: #FFFFFF;\n",
              "    }\n",
              "  </style>\n",
              "\n",
              "    <script>\n",
              "      const buttonEl =\n",
              "        document.querySelector('#df-d7c7d67d-1855-4b8f-82d2-07b066db22c0 button.colab-df-convert');\n",
              "      buttonEl.style.display =\n",
              "        google.colab.kernel.accessAllowed ? 'block' : 'none';\n",
              "\n",
              "      async function convertToInteractive(key) {\n",
              "        const element = document.querySelector('#df-d7c7d67d-1855-4b8f-82d2-07b066db22c0');\n",
              "        const dataTable =\n",
              "          await google.colab.kernel.invokeFunction('convertToInteractive',\n",
              "                                                    [key], {});\n",
              "        if (!dataTable) return;\n",
              "\n",
              "        const docLinkHtml = 'Like what you see? Visit the ' +\n",
              "          '<a target=\"_blank\" href=https://colab.research.google.com/notebooks/data_table.ipynb>data table notebook</a>'\n",
              "          + ' to learn more about interactive tables.';\n",
              "        element.innerHTML = '';\n",
              "        dataTable['output_type'] = 'display_data';\n",
              "        await google.colab.output.renderOutput(dataTable, element);\n",
              "        const docLink = document.createElement('div');\n",
              "        docLink.innerHTML = docLinkHtml;\n",
              "        element.appendChild(docLink);\n",
              "      }\n",
              "    </script>\n",
              "  </div>\n",
              "\n",
              "\n",
              "<div id=\"df-16ac1a87-3ffa-4820-b5b2-cca3d126d1fe\">\n",
              "  <button class=\"colab-df-quickchart\" onclick=\"quickchart('df-16ac1a87-3ffa-4820-b5b2-cca3d126d1fe')\"\n",
              "            title=\"Suggest charts\"\n",
              "            style=\"display:none;\">\n",
              "\n",
              "<svg xmlns=\"http://www.w3.org/2000/svg\" height=\"24px\"viewBox=\"0 0 24 24\"\n",
              "     width=\"24px\">\n",
              "    <g>\n",
              "        <path d=\"M19 3H5c-1.1 0-2 .9-2 2v14c0 1.1.9 2 2 2h14c1.1 0 2-.9 2-2V5c0-1.1-.9-2-2-2zM9 17H7v-7h2v7zm4 0h-2V7h2v10zm4 0h-2v-4h2v4z\"/>\n",
              "    </g>\n",
              "</svg>\n",
              "  </button>\n",
              "\n",
              "<style>\n",
              "  .colab-df-quickchart {\n",
              "      --bg-color: #E8F0FE;\n",
              "      --fill-color: #1967D2;\n",
              "      --hover-bg-color: #E2EBFA;\n",
              "      --hover-fill-color: #174EA6;\n",
              "      --disabled-fill-color: #AAA;\n",
              "      --disabled-bg-color: #DDD;\n",
              "  }\n",
              "\n",
              "  [theme=dark] .colab-df-quickchart {\n",
              "      --bg-color: #3B4455;\n",
              "      --fill-color: #D2E3FC;\n",
              "      --hover-bg-color: #434B5C;\n",
              "      --hover-fill-color: #FFFFFF;\n",
              "      --disabled-bg-color: #3B4455;\n",
              "      --disabled-fill-color: #666;\n",
              "  }\n",
              "\n",
              "  .colab-df-quickchart {\n",
              "    background-color: var(--bg-color);\n",
              "    border: none;\n",
              "    border-radius: 50%;\n",
              "    cursor: pointer;\n",
              "    display: none;\n",
              "    fill: var(--fill-color);\n",
              "    height: 32px;\n",
              "    padding: 0;\n",
              "    width: 32px;\n",
              "  }\n",
              "\n",
              "  .colab-df-quickchart:hover {\n",
              "    background-color: var(--hover-bg-color);\n",
              "    box-shadow: 0 1px 2px rgba(60, 64, 67, 0.3), 0 1px 3px 1px rgba(60, 64, 67, 0.15);\n",
              "    fill: var(--button-hover-fill-color);\n",
              "  }\n",
              "\n",
              "  .colab-df-quickchart-complete:disabled,\n",
              "  .colab-df-quickchart-complete:disabled:hover {\n",
              "    background-color: var(--disabled-bg-color);\n",
              "    fill: var(--disabled-fill-color);\n",
              "    box-shadow: none;\n",
              "  }\n",
              "\n",
              "  .colab-df-spinner {\n",
              "    border: 2px solid var(--fill-color);\n",
              "    border-color: transparent;\n",
              "    border-bottom-color: var(--fill-color);\n",
              "    animation:\n",
              "      spin 1s steps(1) infinite;\n",
              "  }\n",
              "\n",
              "  @keyframes spin {\n",
              "    0% {\n",
              "      border-color: transparent;\n",
              "      border-bottom-color: var(--fill-color);\n",
              "      border-left-color: var(--fill-color);\n",
              "    }\n",
              "    20% {\n",
              "      border-color: transparent;\n",
              "      border-left-color: var(--fill-color);\n",
              "      border-top-color: var(--fill-color);\n",
              "    }\n",
              "    30% {\n",
              "      border-color: transparent;\n",
              "      border-left-color: var(--fill-color);\n",
              "      border-top-color: var(--fill-color);\n",
              "      border-right-color: var(--fill-color);\n",
              "    }\n",
              "    40% {\n",
              "      border-color: transparent;\n",
              "      border-right-color: var(--fill-color);\n",
              "      border-top-color: var(--fill-color);\n",
              "    }\n",
              "    60% {\n",
              "      border-color: transparent;\n",
              "      border-right-color: var(--fill-color);\n",
              "    }\n",
              "    80% {\n",
              "      border-color: transparent;\n",
              "      border-right-color: var(--fill-color);\n",
              "      border-bottom-color: var(--fill-color);\n",
              "    }\n",
              "    90% {\n",
              "      border-color: transparent;\n",
              "      border-bottom-color: var(--fill-color);\n",
              "    }\n",
              "  }\n",
              "</style>\n",
              "\n",
              "  <script>\n",
              "    async function quickchart(key) {\n",
              "      const quickchartButtonEl =\n",
              "        document.querySelector('#' + key + ' button');\n",
              "      quickchartButtonEl.disabled = true;  // To prevent multiple clicks.\n",
              "      quickchartButtonEl.classList.add('colab-df-spinner');\n",
              "      try {\n",
              "        const charts = await google.colab.kernel.invokeFunction(\n",
              "            'suggestCharts', [key], {});\n",
              "      } catch (error) {\n",
              "        console.error('Error during call to suggestCharts:', error);\n",
              "      }\n",
              "      quickchartButtonEl.classList.remove('colab-df-spinner');\n",
              "      quickchartButtonEl.classList.add('colab-df-quickchart-complete');\n",
              "    }\n",
              "    (() => {\n",
              "      let quickchartButtonEl =\n",
              "        document.querySelector('#df-16ac1a87-3ffa-4820-b5b2-cca3d126d1fe button');\n",
              "      quickchartButtonEl.style.display =\n",
              "        google.colab.kernel.accessAllowed ? 'block' : 'none';\n",
              "    })();\n",
              "  </script>\n",
              "</div>\n",
              "\n",
              "    </div>\n",
              "  </div>\n"
            ],
            "application/vnd.google.colaboratory.intrinsic+json": {
              "type": "dataframe",
              "variable_name": "df",
              "summary": "{\n  \"name\": \"df\",\n  \"rows\": 5000,\n  \"fields\": [\n    {\n      \"column\": \"artist\",\n      \"properties\": {\n        \"dtype\": \"category\",\n        \"num_unique_values\": 613,\n        \"samples\": [\n          \"John Waite\",\n          \"Ne-Yo\",\n          \"UB40\"\n        ],\n        \"semantic_type\": \"\",\n        \"description\": \"\"\n      }\n    },\n    {\n      \"column\": \"song\",\n      \"properties\": {\n        \"dtype\": \"string\",\n        \"num_unique_values\": 4768,\n        \"samples\": [\n          \"Descarada\",\n          \"Classic\",\n          \"Johnny Panic And The Bible Of Dreams\"\n        ],\n        \"semantic_type\": \"\",\n        \"description\": \"\"\n      }\n    },\n    {\n      \"column\": \"text\",\n      \"properties\": {\n        \"dtype\": \"string\",\n        \"num_unique_values\": 4999,\n        \"samples\": [\n          \"I tried to walk quickly past the water's edge  \\r\\nDidn't wanna see my own reflection  \\r\\nBut I just stepped off the highest ledge  \\r\\nAnd fell into the sea of imperfection  \\r\\n  \\r\\nAnd just like every other time before  \\r\\nI washed up in pieces on the shore  \\r\\n  \\r\\nBut you found beauty in this broken thing  \\r\\nMade angels dance with wounded wings  \\r\\nI can't imagine anything more beautiful  \\r\\n  \\r\\nYou took the damaged part of me  \\r\\nRestored what little dignity was left inside  \\r\\nThis broken thing  \\r\\n  \\r\\nYeah, I was wading in deep despair  \\r\\nWandering with no sense of direction  \\r\\nThinking prayers just vanished in the air  \\r\\nCause I got myself in this situation  \\r\\n  \\r\\nAnd just like every other time before  \\r\\nYou made the pieces into so much more  \\r\\n  \\r\\nYou found beauty in this broken thing  \\r\\nMade angels dance with wounded wings  \\r\\nI can't imagine anything more beautiful  \\r\\n  \\r\\nYou took the damaged part of me  \\r\\nRestored what little dignity was left inside  \\r\\nThis broken thing  \\r\\n  \\r\\nI know I'm not worthy of this  \\r\\nNever ending perfect love  \\r\\n  \\r\\nYou found beauty in this broken thing  \\r\\nAnd I can't imagine anything more beautiful  \\r\\n  \\r\\nYou found beauty in this broken thing  \\r\\nMade angels dance with wounded wings  \\r\\nI can't imagine anything more beautiful  \\r\\n  \\r\\nYou took the damaged part of me  \\r\\nRestored what little dignity was left inside  \\r\\nWas left inside this broken thing  \\r\\n  \\r\\nI know I'm not worthy of this  \\r\\nNever ending perfect love  \\r\\n  \\r\\nI can't imagine anything more beautiful  \\r\\nYou found beauty in this broken thing  \\r\\nThis broken thing  \\r\\n  \\r\\nI know I'm not worthy of this love\\r\\n\\r\\n\",\n          \"You gotta be crazy, you gotta have a real need.  \\r\\nYou gotta sleep on your toes, and when you're on the street,  \\r\\nYou gotta be able to pick out the easy meat with your eyes closed.  \\r\\nAnd then moving in silently, down wind and out of sight,  \\r\\nYou gotta strike when the moment is right without thinking.  \\r\\n  \\r\\nAnd after a while, you can work on points for style.  \\r\\nLike the club tie, and the firm handshake,  \\r\\nA certain look in the eye and an easy smile.  \\r\\nYou have to be trusted by the people that you lie to,  \\r\\nSo that when they turn their backs on you,  \\r\\nYou'll get the chance to put the knife in.  \\r\\n  \\r\\nYou gotta keep one eye looking over your shoulder.  \\r\\nYou know it's going to get harder, and harder, and harder as you get older.  \\r\\nAnd in the end you'll pack up and fly down south,  \\r\\nHide your head in the sand,  \\r\\nJust another sad old man,  \\r\\nAll alone and dying of cancer.  \\r\\n  \\r\\nAnd when you loose control, you'll reap the harvest you have sown.  \\r\\nAnd as the fear grows, the bad blood slows and turns to stone.  \\r\\nAnd it's too late to lose the weight you used to need to throw around.  \\r\\nSo have a good drown, as you go down, all alone,  \\r\\nDragged down by the stone.  \\r\\n  \\r\\nI gotta admit that I'm a little bit confused.  \\r\\nSometimes it seems to me as if I'm just being used.  \\r\\nGotta stay awake, gotta try and shake off this creeping malaise.  \\r\\nIf I don't stand my own ground, how can I find my way out of this maze?  \\r\\n  \\r\\nDeaf, dumb, and blind, you just keep on pretending  \\r\\nThat everyone's expendable and no-one has a real friend.  \\r\\nAnd it seems to you the thing to do would be to isolate the winner  \\r\\nAnd everything's done under the sun,  \\r\\nAnd you believe at heart, everyone's a killer.  \\r\\n  \\r\\nWho was born in a house full of pain.  \\r\\nWho was trained not to spit in the fan.  \\r\\nWho was told what to do by the man.  \\r\\nWho was broken by trained personnel.  \\r\\n  \\r\\nWho was fitted with collar and chain.  \\r\\nWho was given a pat on the back  \\r\\nWho was breaking away from the pack.  \\r\\nWho was only a stranger at home.  \\r\\n  \\r\\nWho was ground down in the end.  \\r\\nWho was found dead on the phone.  \\r\\nWho was dragged down by the stone.\\r\\n\\r\\n\",\n          \"Too many storms have passed your way  \\r\\nAnd you're all washed out 'cause it rained on your parade  \\r\\nSeems nobody cares about you anyway  \\r\\nNow you're living your life like a castaway  \\r\\n  \\r\\nSearch for strength inside was it all in vain  \\r\\nCause the deeper you dig you find more and more pain  \\r\\nDon't let your tomorrow be like yesterday  \\r\\nCause I spoke to God I called out your name  \\r\\n  \\r\\nAnd on your behalf I just asked  \\r\\nIf He would be there for you  \\r\\n  \\r\\nI want you to be blessed, don't live life in distress  \\r\\nJust let go let God, He'll work it out for you  \\r\\nI pray that your soul will be blessed  \\r\\nForever in His hands for you deserve His best no less  \\r\\n  \\r\\nEnter a place where you never have to cry  \\r\\nNever have to live a lie, never have to wonder why  \\r\\nNever want for nothin' your always satisfied  \\r\\nIn the peace that His arms will provide  \\r\\n  \\r\\nHe will erase any guilt or shame  \\r\\nAny bad habits you got you won't wanna do 'em again  \\r\\nYes we all can change I can testify  \\r\\nSee I spoke to God, I called out your name  \\r\\n  \\r\\nAnd on your behalf I just asked  \\r\\nIf He would be there for you  \\r\\n  \\r\\nI want you to be blessed, don't live life in distress  \\r\\nJust let go let God, He'll work it out for you  \\r\\nI pray that your soul will be blessed  \\r\\nForever in His hands for you deserve His best no less  \\r\\n  \\r\\nMy prayer for you today is that you trust and always obey  \\r\\nOn his name keep calling He'll keep you from fallin'  \\r\\nHe'll supply the answers  \\r\\nIf you stand in faith and trust Him to make a way  \\r\\n  \\r\\nI want you to be blessed, don't live life in distress  \\r\\nJust let go let God, He'll work it out for you  \\r\\nI pray that your soul will be blessed  \\r\\nForever in His hands for you deserve His best no less  \\r\\n  \\r\\nYou've been through so much  \\r\\nBe blessed from the bottom of your feet to the crown of your head  \\r\\nYour life be blessed, your family be blessed  \\r\\nYour finances be blessed everything about you  \\r\\nGive it to Jesus, give it to Jesus\\r\\n\\r\\n\"\n        ],\n        \"semantic_type\": \"\",\n        \"description\": \"\"\n      }\n    }\n  ]\n}"
            }
          },
          "metadata": {},
          "execution_count": 44
        }
      ]
    },
    {
      "cell_type": "code",
      "source": [
        "df.shape"
      ],
      "metadata": {
        "colab": {
          "base_uri": "https://localhost:8080/"
        },
        "id": "rcx2Cl7923Pu",
        "outputId": "9b4d990f-c1df-49a5-de9c-3a8ba29352e8"
      },
      "execution_count": null,
      "outputs": [
        {
          "output_type": "execute_result",
          "data": {
            "text/plain": [
              "(5000, 3)"
            ]
          },
          "metadata": {},
          "execution_count": 45
        }
      ]
    },
    {
      "cell_type": "code",
      "source": [
        "df['text']=df['text'].str.lower().replace(r'^\\w\\s',' ').replace(r'\\n',' ',regex=True)"
      ],
      "metadata": {
        "id": "1weU0We82_2h"
      },
      "execution_count": null,
      "outputs": []
    },
    {
      "cell_type": "code",
      "source": [
        "df.tail(5)"
      ],
      "metadata": {
        "colab": {
          "base_uri": "https://localhost:8080/",
          "height": 206
        },
        "id": "BAxaQZ853rPh",
        "outputId": "8d04fb11-a39a-4d6b-93dd-61b9f70d80a4"
      },
      "execution_count": null,
      "outputs": [
        {
          "output_type": "execute_result",
          "data": {
            "text/plain": [
              "                  artist            song  \\\n",
              "4995        James Taylor    First Of May   \n",
              "4996       Frank Sinatra          Bonita   \n",
              "4997         Johnny Cash        Big Iron   \n",
              "4998   Dusty Springfield  A Song For You   \n",
              "4999  Kris Kristofferson          Why Me   \n",
              "\n",
              "                                                   text  \n",
              "4995  and the light between us  \\r which we could no...  \n",
              "4996  what can i say to you, bonita, what magic word...  \n",
              "4997  to the town of agua fria rode a stranger one f...  \n",
              "4998  i've been so many places  \\r in my life and ti...  \n",
              "4999  why me lord what have i ever done to deserve e...  "
            ],
            "text/html": [
              "\n",
              "  <div id=\"df-1c02731f-fa1e-46fe-9c84-b69bdec08bfa\" class=\"colab-df-container\">\n",
              "    <div>\n",
              "<style scoped>\n",
              "    .dataframe tbody tr th:only-of-type {\n",
              "        vertical-align: middle;\n",
              "    }\n",
              "\n",
              "    .dataframe tbody tr th {\n",
              "        vertical-align: top;\n",
              "    }\n",
              "\n",
              "    .dataframe thead th {\n",
              "        text-align: right;\n",
              "    }\n",
              "</style>\n",
              "<table border=\"1\" class=\"dataframe\">\n",
              "  <thead>\n",
              "    <tr style=\"text-align: right;\">\n",
              "      <th></th>\n",
              "      <th>artist</th>\n",
              "      <th>song</th>\n",
              "      <th>text</th>\n",
              "    </tr>\n",
              "  </thead>\n",
              "  <tbody>\n",
              "    <tr>\n",
              "      <th>4995</th>\n",
              "      <td>James Taylor</td>\n",
              "      <td>First Of May</td>\n",
              "      <td>and the light between us  \\r which we could no...</td>\n",
              "    </tr>\n",
              "    <tr>\n",
              "      <th>4996</th>\n",
              "      <td>Frank Sinatra</td>\n",
              "      <td>Bonita</td>\n",
              "      <td>what can i say to you, bonita, what magic word...</td>\n",
              "    </tr>\n",
              "    <tr>\n",
              "      <th>4997</th>\n",
              "      <td>Johnny Cash</td>\n",
              "      <td>Big Iron</td>\n",
              "      <td>to the town of agua fria rode a stranger one f...</td>\n",
              "    </tr>\n",
              "    <tr>\n",
              "      <th>4998</th>\n",
              "      <td>Dusty Springfield</td>\n",
              "      <td>A Song For You</td>\n",
              "      <td>i've been so many places  \\r in my life and ti...</td>\n",
              "    </tr>\n",
              "    <tr>\n",
              "      <th>4999</th>\n",
              "      <td>Kris Kristofferson</td>\n",
              "      <td>Why Me</td>\n",
              "      <td>why me lord what have i ever done to deserve e...</td>\n",
              "    </tr>\n",
              "  </tbody>\n",
              "</table>\n",
              "</div>\n",
              "    <div class=\"colab-df-buttons\">\n",
              "\n",
              "  <div class=\"colab-df-container\">\n",
              "    <button class=\"colab-df-convert\" onclick=\"convertToInteractive('df-1c02731f-fa1e-46fe-9c84-b69bdec08bfa')\"\n",
              "            title=\"Convert this dataframe to an interactive table.\"\n",
              "            style=\"display:none;\">\n",
              "\n",
              "  <svg xmlns=\"http://www.w3.org/2000/svg\" height=\"24px\" viewBox=\"0 -960 960 960\">\n",
              "    <path d=\"M120-120v-720h720v720H120Zm60-500h600v-160H180v160Zm220 220h160v-160H400v160Zm0 220h160v-160H400v160ZM180-400h160v-160H180v160Zm440 0h160v-160H620v160ZM180-180h160v-160H180v160Zm440 0h160v-160H620v160Z\"/>\n",
              "  </svg>\n",
              "    </button>\n",
              "\n",
              "  <style>\n",
              "    .colab-df-container {\n",
              "      display:flex;\n",
              "      gap: 12px;\n",
              "    }\n",
              "\n",
              "    .colab-df-convert {\n",
              "      background-color: #E8F0FE;\n",
              "      border: none;\n",
              "      border-radius: 50%;\n",
              "      cursor: pointer;\n",
              "      display: none;\n",
              "      fill: #1967D2;\n",
              "      height: 32px;\n",
              "      padding: 0 0 0 0;\n",
              "      width: 32px;\n",
              "    }\n",
              "\n",
              "    .colab-df-convert:hover {\n",
              "      background-color: #E2EBFA;\n",
              "      box-shadow: 0px 1px 2px rgba(60, 64, 67, 0.3), 0px 1px 3px 1px rgba(60, 64, 67, 0.15);\n",
              "      fill: #174EA6;\n",
              "    }\n",
              "\n",
              "    .colab-df-buttons div {\n",
              "      margin-bottom: 4px;\n",
              "    }\n",
              "\n",
              "    [theme=dark] .colab-df-convert {\n",
              "      background-color: #3B4455;\n",
              "      fill: #D2E3FC;\n",
              "    }\n",
              "\n",
              "    [theme=dark] .colab-df-convert:hover {\n",
              "      background-color: #434B5C;\n",
              "      box-shadow: 0px 1px 3px 1px rgba(0, 0, 0, 0.15);\n",
              "      filter: drop-shadow(0px 1px 2px rgba(0, 0, 0, 0.3));\n",
              "      fill: #FFFFFF;\n",
              "    }\n",
              "  </style>\n",
              "\n",
              "    <script>\n",
              "      const buttonEl =\n",
              "        document.querySelector('#df-1c02731f-fa1e-46fe-9c84-b69bdec08bfa button.colab-df-convert');\n",
              "      buttonEl.style.display =\n",
              "        google.colab.kernel.accessAllowed ? 'block' : 'none';\n",
              "\n",
              "      async function convertToInteractive(key) {\n",
              "        const element = document.querySelector('#df-1c02731f-fa1e-46fe-9c84-b69bdec08bfa');\n",
              "        const dataTable =\n",
              "          await google.colab.kernel.invokeFunction('convertToInteractive',\n",
              "                                                    [key], {});\n",
              "        if (!dataTable) return;\n",
              "\n",
              "        const docLinkHtml = 'Like what you see? Visit the ' +\n",
              "          '<a target=\"_blank\" href=https://colab.research.google.com/notebooks/data_table.ipynb>data table notebook</a>'\n",
              "          + ' to learn more about interactive tables.';\n",
              "        element.innerHTML = '';\n",
              "        dataTable['output_type'] = 'display_data';\n",
              "        await google.colab.output.renderOutput(dataTable, element);\n",
              "        const docLink = document.createElement('div');\n",
              "        docLink.innerHTML = docLinkHtml;\n",
              "        element.appendChild(docLink);\n",
              "      }\n",
              "    </script>\n",
              "  </div>\n",
              "\n",
              "\n",
              "<div id=\"df-d0302204-4409-495b-a7b9-456979c0d828\">\n",
              "  <button class=\"colab-df-quickchart\" onclick=\"quickchart('df-d0302204-4409-495b-a7b9-456979c0d828')\"\n",
              "            title=\"Suggest charts\"\n",
              "            style=\"display:none;\">\n",
              "\n",
              "<svg xmlns=\"http://www.w3.org/2000/svg\" height=\"24px\"viewBox=\"0 0 24 24\"\n",
              "     width=\"24px\">\n",
              "    <g>\n",
              "        <path d=\"M19 3H5c-1.1 0-2 .9-2 2v14c0 1.1.9 2 2 2h14c1.1 0 2-.9 2-2V5c0-1.1-.9-2-2-2zM9 17H7v-7h2v7zm4 0h-2V7h2v10zm4 0h-2v-4h2v4z\"/>\n",
              "    </g>\n",
              "</svg>\n",
              "  </button>\n",
              "\n",
              "<style>\n",
              "  .colab-df-quickchart {\n",
              "      --bg-color: #E8F0FE;\n",
              "      --fill-color: #1967D2;\n",
              "      --hover-bg-color: #E2EBFA;\n",
              "      --hover-fill-color: #174EA6;\n",
              "      --disabled-fill-color: #AAA;\n",
              "      --disabled-bg-color: #DDD;\n",
              "  }\n",
              "\n",
              "  [theme=dark] .colab-df-quickchart {\n",
              "      --bg-color: #3B4455;\n",
              "      --fill-color: #D2E3FC;\n",
              "      --hover-bg-color: #434B5C;\n",
              "      --hover-fill-color: #FFFFFF;\n",
              "      --disabled-bg-color: #3B4455;\n",
              "      --disabled-fill-color: #666;\n",
              "  }\n",
              "\n",
              "  .colab-df-quickchart {\n",
              "    background-color: var(--bg-color);\n",
              "    border: none;\n",
              "    border-radius: 50%;\n",
              "    cursor: pointer;\n",
              "    display: none;\n",
              "    fill: var(--fill-color);\n",
              "    height: 32px;\n",
              "    padding: 0;\n",
              "    width: 32px;\n",
              "  }\n",
              "\n",
              "  .colab-df-quickchart:hover {\n",
              "    background-color: var(--hover-bg-color);\n",
              "    box-shadow: 0 1px 2px rgba(60, 64, 67, 0.3), 0 1px 3px 1px rgba(60, 64, 67, 0.15);\n",
              "    fill: var(--button-hover-fill-color);\n",
              "  }\n",
              "\n",
              "  .colab-df-quickchart-complete:disabled,\n",
              "  .colab-df-quickchart-complete:disabled:hover {\n",
              "    background-color: var(--disabled-bg-color);\n",
              "    fill: var(--disabled-fill-color);\n",
              "    box-shadow: none;\n",
              "  }\n",
              "\n",
              "  .colab-df-spinner {\n",
              "    border: 2px solid var(--fill-color);\n",
              "    border-color: transparent;\n",
              "    border-bottom-color: var(--fill-color);\n",
              "    animation:\n",
              "      spin 1s steps(1) infinite;\n",
              "  }\n",
              "\n",
              "  @keyframes spin {\n",
              "    0% {\n",
              "      border-color: transparent;\n",
              "      border-bottom-color: var(--fill-color);\n",
              "      border-left-color: var(--fill-color);\n",
              "    }\n",
              "    20% {\n",
              "      border-color: transparent;\n",
              "      border-left-color: var(--fill-color);\n",
              "      border-top-color: var(--fill-color);\n",
              "    }\n",
              "    30% {\n",
              "      border-color: transparent;\n",
              "      border-left-color: var(--fill-color);\n",
              "      border-top-color: var(--fill-color);\n",
              "      border-right-color: var(--fill-color);\n",
              "    }\n",
              "    40% {\n",
              "      border-color: transparent;\n",
              "      border-right-color: var(--fill-color);\n",
              "      border-top-color: var(--fill-color);\n",
              "    }\n",
              "    60% {\n",
              "      border-color: transparent;\n",
              "      border-right-color: var(--fill-color);\n",
              "    }\n",
              "    80% {\n",
              "      border-color: transparent;\n",
              "      border-right-color: var(--fill-color);\n",
              "      border-bottom-color: var(--fill-color);\n",
              "    }\n",
              "    90% {\n",
              "      border-color: transparent;\n",
              "      border-bottom-color: var(--fill-color);\n",
              "    }\n",
              "  }\n",
              "</style>\n",
              "\n",
              "  <script>\n",
              "    async function quickchart(key) {\n",
              "      const quickchartButtonEl =\n",
              "        document.querySelector('#' + key + ' button');\n",
              "      quickchartButtonEl.disabled = true;  // To prevent multiple clicks.\n",
              "      quickchartButtonEl.classList.add('colab-df-spinner');\n",
              "      try {\n",
              "        const charts = await google.colab.kernel.invokeFunction(\n",
              "            'suggestCharts', [key], {});\n",
              "      } catch (error) {\n",
              "        console.error('Error during call to suggestCharts:', error);\n",
              "      }\n",
              "      quickchartButtonEl.classList.remove('colab-df-spinner');\n",
              "      quickchartButtonEl.classList.add('colab-df-quickchart-complete');\n",
              "    }\n",
              "    (() => {\n",
              "      let quickchartButtonEl =\n",
              "        document.querySelector('#df-d0302204-4409-495b-a7b9-456979c0d828 button');\n",
              "      quickchartButtonEl.style.display =\n",
              "        google.colab.kernel.accessAllowed ? 'block' : 'none';\n",
              "    })();\n",
              "  </script>\n",
              "</div>\n",
              "\n",
              "    </div>\n",
              "  </div>\n"
            ],
            "application/vnd.google.colaboratory.intrinsic+json": {
              "type": "dataframe",
              "summary": "{\n  \"name\": \"df\",\n  \"rows\": 5,\n  \"fields\": [\n    {\n      \"column\": \"artist\",\n      \"properties\": {\n        \"dtype\": \"string\",\n        \"num_unique_values\": 5,\n        \"samples\": [\n          \"Frank Sinatra\",\n          \"Kris Kristofferson\",\n          \"Johnny Cash\"\n        ],\n        \"semantic_type\": \"\",\n        \"description\": \"\"\n      }\n    },\n    {\n      \"column\": \"song\",\n      \"properties\": {\n        \"dtype\": \"string\",\n        \"num_unique_values\": 5,\n        \"samples\": [\n          \"Bonita\",\n          \"Why Me\",\n          \"Big Iron\"\n        ],\n        \"semantic_type\": \"\",\n        \"description\": \"\"\n      }\n    },\n    {\n      \"column\": \"text\",\n      \"properties\": {\n        \"dtype\": \"string\",\n        \"num_unique_values\": 5,\n        \"samples\": [\n          \"what can i say to you, bonita, what magic words would capture you  \\r like a soft evasive mist you are, bonita, you fly away when love is new  \\r what do you ask of me, bonita, what part do you want me to play,  \\r shall i be the clown for you, bonita, i will be anything you say.  \\r bonita, don't run away, bonita.  \\r bonita, don't be afraid to fall in love with me,  \\r i love you, i tell you, i love you, i love you, bonita.  \\r if you love me, life would be beautiful, bonita.  \\r i love you, i tell you, i love you, i love you, bonita.  \\r if you love me, life would be beautiful, bonita.\\r \\r \",\n          \"why me lord what have i ever done to deserve even one of the pleasures i've\\r known  \\r tell me lord what did i ever do  \\r that was worth loving you or the kindness you've shown  \\r lord help me jesus i've wasted it so help me jesus i know what i am  \\r now that i know that i've needed you so help me jesus my soul's in your hand  \\r   \\r try me lord if you think there's a way i can try to repay all i've taken from\\r you  \\r maybe lord i can show someone else what i've been through myself  \\r on my way back to you  \\r lord help me jesus...  \\r lord help me jesus...  \\r jesus my soul's in your hand\\r \\r \",\n          \"to the town of agua fria rode a stranger one fine day  \\r hardly spoke to folks around him didn't have too much to say  \\r no one dared to ask his business no one dared to make a slip  \\r for the stranger there among them had a big iron on his hip  \\r big iron on his hip  \\r   \\r it was early in the morning when he rode into the town  \\r he came riding from the south side slowly lookin' all around  \\r he's an outlaw loose and running came the whisper from each lip  \\r and he's here to do some business with the big iron on his hip  \\r big iron on his hip  \\r   \\r in this town there lived an outlaw by the name of texas red  \\r many men had tried to take him and that many men were dead  \\r he was vicious and a killer though a youth of twenty four  \\r and the notches on his pistol numbered one an nineteen more  \\r one and nineteen more  \\r   \\r now the stranger started talking made it plain to folks around  \\r was an arizona ranger wouldn't be too long in town  \\r he came here to take an outlaw back alive or maybe dead  \\r and he said it didn't matter he was after texas red  \\r after texas red  \\r   \\r wasn't long before the story was relayed to texas red  \\r but the outlaw didn't worry men that tried before were dead  \\r twenty men had tried to take twenty men had made a slip  \\r twenty one would be the ranger with the big iron on his hip  \\r big iron on his hip  \\r   \\r the morning passed so quickly it was time for them to meet  \\r it was twenty past eleven when they walked out in the street  \\r folks were watching from their windows every-body held their breath  \\r they knew this handsome ranger was about to meet his death  \\r about to meet his death  \\r   \\r there was forty feet between them when they stopped to make their play  \\r and the swiftness of the ranger is still talked about to-day  \\r texas red had not cleared leather when a bullet fairly ripped  \\r and the rangers aim was deadly with the big iron on his hip  \\r big iron on his hip  \\r   \\r it was over in a moment and the folks had gathered round  \\r there before them lay the body of the outlaw on the ground  \\r oh he might have gone on living but he made one fatal slip  \\r when he tried to match the ranger with the big iron on his hip  \\r big iron on his hip  \\r   \\r big iron big iron  \\r when he tried to match the ranger with the big iron on his hip the big iron on\\r his hip\\r \\r \"\n        ],\n        \"semantic_type\": \"\",\n        \"description\": \"\"\n      }\n    }\n  ]\n}"
            }
          },
          "metadata": {},
          "execution_count": 47
        }
      ]
    },
    {
      "cell_type": "code",
      "source": [
        "\n",
        "from nltk.stem.porter import PorterStemmer"
      ],
      "metadata": {
        "id": "Zn9S7rnM4RXy"
      },
      "execution_count": null,
      "outputs": []
    },
    {
      "cell_type": "code",
      "source": [
        "!pip install nltk\n",
        "import nltk\n",
        "nltk.download('punkt')\n",
        "\n"
      ],
      "metadata": {
        "colab": {
          "base_uri": "https://localhost:8080/"
        },
        "id": "h-ypnJ485Ypj",
        "outputId": "c140ce1f-6b56-44aa-9f63-75bd0b4eb532"
      },
      "execution_count": null,
      "outputs": [
        {
          "output_type": "stream",
          "name": "stdout",
          "text": [
            "Requirement already satisfied: nltk in /usr/local/lib/python3.10/dist-packages (3.8.1)\n",
            "Requirement already satisfied: click in /usr/local/lib/python3.10/dist-packages (from nltk) (8.1.7)\n",
            "Requirement already satisfied: joblib in /usr/local/lib/python3.10/dist-packages (from nltk) (1.3.2)\n",
            "Requirement already satisfied: regex>=2021.8.3 in /usr/local/lib/python3.10/dist-packages (from nltk) (2023.12.25)\n",
            "Requirement already satisfied: tqdm in /usr/local/lib/python3.10/dist-packages (from nltk) (4.66.2)\n"
          ]
        },
        {
          "output_type": "stream",
          "name": "stderr",
          "text": [
            "[nltk_data] Downloading package punkt to /root/nltk_data...\n",
            "[nltk_data]   Package punkt is already up-to-date!\n"
          ]
        },
        {
          "output_type": "execute_result",
          "data": {
            "text/plain": [
              "True"
            ]
          },
          "metadata": {},
          "execution_count": 48
        }
      ]
    },
    {
      "cell_type": "code",
      "source": [
        "stemmer=PorterStemmer()"
      ],
      "metadata": {
        "id": "ft60l_eo4bJP"
      },
      "execution_count": null,
      "outputs": []
    },
    {
      "cell_type": "code",
      "source": [
        "def token(txt):\n",
        "  token =nltk.word_tokenize(txt)\n",
        "  a=[stemmer.stem(w) for w in token]\n",
        "  return \" \".join(a)"
      ],
      "metadata": {
        "id": "--L74S9l4gP3"
      },
      "execution_count": null,
      "outputs": []
    },
    {
      "cell_type": "code",
      "source": [
        "token(\"You are beautiful, beauty\")"
      ],
      "metadata": {
        "colab": {
          "base_uri": "https://localhost:8080/",
          "height": 36
        },
        "id": "D-m9WSSH44MD",
        "outputId": "54a97082-f2b8-4064-c4ee-c704a3ba58e6"
      },
      "execution_count": null,
      "outputs": [
        {
          "output_type": "execute_result",
          "data": {
            "text/plain": [
              "'you are beauti , beauti'"
            ],
            "application/vnd.google.colaboratory.intrinsic+json": {
              "type": "string"
            }
          },
          "metadata": {},
          "execution_count": 52
        }
      ]
    },
    {
      "cell_type": "code",
      "source": [
        "df['text'].apply(lambda x: token(x))"
      ],
      "metadata": {
        "colab": {
          "base_uri": "https://localhost:8080/"
        },
        "id": "mdjaBEUf59MU",
        "outputId": "0dd7b9fb-c1b2-44df-cb27-715851541045"
      },
      "execution_count": null,
      "outputs": [
        {
          "output_type": "execute_result",
          "data": {
            "text/plain": [
              "0       you wait by the window morn 's breath on the s...\n",
              "1       i saw the news thi morn and saw your face acro...\n",
              "2       give me love like her , 'caus late i 've been ...\n",
              "3       peopl are sayin ' that boy is gon na hurt you ...\n",
              "4       i get out of bed at half past ten phone up a f...\n",
              "                              ...                        \n",
              "4995    and the light between us which we could not qu...\n",
              "4996    what can i say to you , bonita , what magic wo...\n",
              "4997    to the town of agua fria rode a stranger one f...\n",
              "4998    i 've been so mani place in my life and time i...\n",
              "4999    whi me lord what have i ever done to deserv ev...\n",
              "Name: text, Length: 5000, dtype: object"
            ]
          },
          "metadata": {},
          "execution_count": 54
        }
      ]
    },
    {
      "cell_type": "code",
      "source": [
        "from sklearn.feature_extraction.text import TfidfVectorizer\n",
        "from sklearn.metrics.pairwise import cosine_similarity"
      ],
      "metadata": {
        "id": "OnrqDnQV5nXG"
      },
      "execution_count": null,
      "outputs": []
    },
    {
      "cell_type": "code",
      "source": [
        "tfid=TfidfVectorizer(analyzer='word',stop_words='english')"
      ],
      "metadata": {
        "id": "3pWlvb1b56h0"
      },
      "execution_count": null,
      "outputs": []
    },
    {
      "cell_type": "code",
      "source": [
        "matrix=tfid.fit_transform(df['text'])"
      ],
      "metadata": {
        "id": "BGpmPz7m76VT"
      },
      "execution_count": null,
      "outputs": []
    },
    {
      "cell_type": "code",
      "source": [
        "similer=cosine_similarity(matrix)"
      ],
      "metadata": {
        "id": "DpyyJiUk8NI2"
      },
      "execution_count": null,
      "outputs": []
    },
    {
      "cell_type": "code",
      "source": [
        "similer[0]"
      ],
      "metadata": {
        "colab": {
          "base_uri": "https://localhost:8080/"
        },
        "id": "tMYY5eDF8Usb",
        "outputId": "61823815-192b-4735-9619-b81d246964fd"
      },
      "execution_count": null,
      "outputs": [
        {
          "output_type": "execute_result",
          "data": {
            "text/plain": [
              "array([1.00000000e+00, 2.68195715e-02, 2.61043620e-02, ...,\n",
              "       2.55054870e-02, 7.74527467e-04, 7.10379361e-03])"
            ]
          },
          "metadata": {},
          "execution_count": 63
        }
      ]
    },
    {
      "cell_type": "code",
      "source": [
        "df[df['song']=='First Of May'].index[0]"
      ],
      "metadata": {
        "colab": {
          "base_uri": "https://localhost:8080/"
        },
        "id": "Q5584gnH8i6u",
        "outputId": "201934e2-7cb8-4aa1-8f0d-292101c178fe"
      },
      "execution_count": null,
      "outputs": [
        {
          "output_type": "execute_result",
          "data": {
            "text/plain": [
              "4995"
            ]
          },
          "metadata": {},
          "execution_count": 66
        }
      ]
    },
    {
      "cell_type": "code",
      "source": [
        "def recommender(song_name):\n",
        "  idx=df[df['song']==song_name].index[0]\n",
        "  distance=sorted(list(enumerate(similer[idx])),reverse=True,key=lambda x:x[1])\n",
        "  song=[]\n",
        "  for s_id in distance[1:21]:\n",
        "    song.append(df.iloc[s_id[0]].song)\n",
        "  return song"
      ],
      "metadata": {
        "id": "3pQvKjR488US"
      },
      "execution_count": null,
      "outputs": []
    },
    {
      "cell_type": "code",
      "source": [
        "recommender('First Of May')"
      ],
      "metadata": {
        "colab": {
          "base_uri": "https://localhost:8080/"
        },
        "id": "m94lB6w1-BRj",
        "outputId": "334c3250-2af5-44ed-996a-864bc5a8626e"
      },
      "execution_count": null,
      "outputs": [
        {
          "output_type": "execute_result",
          "data": {
            "text/plain": [
              "['Aztec Priests Song',\n",
              " 'Dj Seduces Sonny',\n",
              " \"He Ain't Give You None\",\n",
              " \"Stayin' Alive\",\n",
              " \"Beegee's Medley\",\n",
              " 'One And Only',\n",
              " 'Shut Up And Make Love',\n",
              " 'Keep Smiling',\n",
              " 'This Time',\n",
              " 'Angels With Dirty Faces',\n",
              " 'High Time',\n",
              " 'Port Arthur High School Reunion',\n",
              " 'Fire',\n",
              " \"Blazin'\",\n",
              " 'Rise Above',\n",
              " 'Schizo',\n",
              " 'Have A Banana!',\n",
              " 'Mississippi Queen',\n",
              " \"Learning How To Rock'n'roll\",\n",
              " '634-5789']"
            ]
          },
          "metadata": {},
          "execution_count": 70
        }
      ]
    },
    {
      "cell_type": "code",
      "source": [
        "import pickle"
      ],
      "metadata": {
        "id": "hwfLBrhi-brk"
      },
      "execution_count": null,
      "outputs": []
    },
    {
      "cell_type": "code",
      "source": [
        "pickle.dump(similer,open(\"similarity\",\"wb\"))"
      ],
      "metadata": {
        "id": "OGrIISLt-eCH"
      },
      "execution_count": null,
      "outputs": []
    },
    {
      "cell_type": "code",
      "source": [
        "pickle.dump(df,open(\"df\",\"wb\"))"
      ],
      "metadata": {
        "id": "0apyZ4Q5-thK"
      },
      "execution_count": null,
      "outputs": []
    }
  ],
  "metadata": {
    "colab": {
      "provenance": [],
      "authorship_tag": "ABX9TyON/8RlVqgjambZx8+YqSV/",
      "include_colab_link": true
    },
    "kernelspec": {
      "display_name": "Python 3",
      "name": "python3"
    },
    "language_info": {
      "name": "python"
    }
  },
  "nbformat": 4,
  "nbformat_minor": 0
}